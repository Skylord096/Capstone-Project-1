{
  "nbformat": 4,
  "nbformat_minor": 0,
  "metadata": {
    "colab": {
      "private_outputs": true,
      "provenance": [],
      "collapsed_sections": [
        "7hBIi_osiCS2",
        "JlHwYmJAmNHm",
        "35m5QtbWiB9F",
        "PoPl-ycgm1ru",
        "H0kj-8xxnORC",
        "nA9Y7ga8ng1Z",
        "PBTbrJXOngz2",
        "u3PMJOP6ngxN",
        "dauF4eBmngu3",
        "bKJF3rekwFvQ",
        "MSa1f5Uengrz",
        "GF8Ens_Soomf",
        "0wOQAZs5pc--",
        "K5QZ13OEpz2H",
        "lQ7QKXXCp7Bj",
        "448CDAPjqfQr",
        "KSlN3yHqYklG",
        "t6dVpIINYklI",
        "ijmpgYnKYklI",
        "-JiQyfWJYklI",
        "EM7whBJCYoAo",
        "fge-S5ZAYoAp",
        "85gYPyotYoAp",
        "RoGjAbkUYoAp",
        "4Of9eVA-YrdM",
        "iky9q4vBYrdO",
        "F6T5p64dYrdO",
        "y-Ehk30pYrdP",
        "bamQiAODYuh1",
        "QHF8YVU7Yuh3",
        "GwzvFGzlYuh3",
        "qYpmQ266Yuh3",
        "OH-pJp9IphqM",
        "bbFf2-_FphqN",
        "_ouA3fa0phqN",
        "Seke61FWphqN",
        "PIIx-8_IphqN",
        "t27r6nlMphqO",
        "r2jJGEOYphqO",
        "b0JNsNcRphqO",
        "BZR9WyysphqO",
        "jj7wYXLtphqO",
        "eZrbJ2SmphqO",
        "rFu4xreNphqO",
        "YJ55k-q6phqO",
        "gCFgpxoyphqP",
        "OVtJsKN_phqQ",
        "lssrdh5qphqQ",
        "U2RJ9gkRphqQ",
        "1M8mcRywphqQ",
        "tgIPom80phqQ",
        "JMzcOPDDphqR",
        "x-EpHcCOp1ci",
        "X_VqEhTip1ck",
        "8zGJKyg5p1ck",
        "PVzmfK_Ep1ck",
        "n3dbpmDWp1ck",
        "ylSl6qgtp1ck",
        "ZWILFDl5p1ck",
        "M7G43BXep1ck",
        "Ag9LCva-p1cl",
        "E6MkPsBcp1cl",
        "2cELzS2fp1cl",
        "3MPXvC8up1cl",
        "NC_X3p0fY2L0",
        "UV0SzAkaZNRQ",
        "YPEH6qLeZNRQ",
        "q29F0dvdveiT",
        "EXh0U9oCveiU",
        "22aHeOlLveiV",
        "JcMwzZxoAimU",
        "8G2x9gOozGDZ",
        "gCX9965dhzqZ",
        "gIfDvo9L0UH2"
      ],
      "cell_execution_strategy": "setup",
      "include_colab_link": true
    },
    "kernelspec": {
      "name": "python3",
      "display_name": "Python 3"
    },
    "language_info": {
      "name": "python"
    }
  },
  "cells": [
    {
      "cell_type": "markdown",
      "metadata": {
        "id": "view-in-github",
        "colab_type": "text"
      },
      "source": [
        "<a href=\"https://colab.research.google.com/github/Skylord096/Capstone-Project-1/blob/main/Capstone_Project_2_EDA_Airbnb_Booking_Analysis.ipynb\" target=\"_parent\"><img src=\"https://colab.research.google.com/assets/colab-badge.svg\" alt=\"Open In Colab\"/></a>"
      ]
    },
    {
      "cell_type": "markdown",
      "source": [
        "# **Project Name - Airbnb Bookings Analysis**    \n",
        "\n"
      ],
      "metadata": {
        "id": "vncDsAP0Gaoa"
      }
    },
    {
      "cell_type": "markdown",
      "source": [
        "##### **Project Type**    - EDA\n",
        "##### **Contribution**    - Individual\n",
        "##### **Name**    - Akash Saini\n"
      ],
      "metadata": {
        "id": "beRrZCGUAJYm"
      }
    },
    {
      "cell_type": "markdown",
      "source": [
        "# **Project Summary -**"
      ],
      "metadata": {
        "id": "FJNUwmbgGyua"
      }
    },
    {
      "cell_type": "markdown",
      "source": [
        "The objective of this project is to conduct an exploratory data analysis (EDA) on Airbnb listings data in New York City to gain insights into the rental landscape. By analyzing various attributes such as listing details, host information, location data, pricing, and availability, we aim to understand key trends, patterns, and relationships within the dataset specific to New York City."
      ],
      "metadata": {
        "id": "F6v_1wHtG2nS"
      }
    },
    {
      "cell_type": "markdown",
      "source": [
        "# **GitHub Link -**"
      ],
      "metadata": {
        "id": "w6K7xa23Elo4"
      }
    },
    {
      "cell_type": "markdown",
      "source": [
        "https://github.com/Skylord096/Capstone-Project-1"
      ],
      "metadata": {
        "id": "h1o69JH3Eqqn"
      }
    },
    {
      "cell_type": "markdown",
      "source": [
        "# **Problem Statement**\n"
      ],
      "metadata": {
        "id": "yQaldy8SH6Dl"
      }
    },
    {
      "cell_type": "markdown",
      "source": [
        "**1. Price Disparity Analysis:**\n",
        "\n",
        "* Investigate the factors contributing to price disparities among Airbnb listings in different neighborhoods or boroughs of New York City.\n",
        "* Explore whether there are significant differences in pricing based on room types (entire home/apartment, private room, shared room).\n",
        "\n",
        "**2. Host Behavior and Performance:**\n",
        "\n",
        "* Analyze the relationship between host characteristics (such as host_id, host_name) and listing performance metrics (number of reviews, reviews per month).\n",
        "* Identify top-performing hosts in terms of overall satisfaction and booking frequency.\n",
        "\n",
        "**3. Temporal Patterns and Seasonality:**\n",
        "\n",
        "* Examine temporal patterns in Airbnb bookings, including seasonal fluctuations, peak booking months, and trends over time.\n",
        "* Investigate whether there are specific events or holidays that influence booking rates and pricing.\n",
        "\n",
        "**4. Availability and Booking Trends:**\n",
        "\n",
        "* Study the availability of listings throughout the year and analyze factors influencing listing availability (e.g., minimum nights required, host activity).\n",
        "* Explore booking trends and demand patterns for different types of accommodations (e.g., entire home/apartment vs. private room).\n",
        "\n",
        "**5. Geospatial Analysis:**\n",
        "\n",
        "* Conduct a geospatial analysis to identify spatial clusters of Airbnb listings and assess their proximity to popular tourist attractions, transportation hubs, and amenities.\n",
        "* Investigate spatial disparities in listing density and pricing across different neighborhoods or boroughs.\n",
        "\n",
        "**6. Customer Satisfaction and Reviews:**\n",
        "\n",
        "* Analyze customer reviews and ratings to identify common themes, sentiments, and factors driving guest satisfaction or dissatisfaction.\n",
        "* Explore the relationship between listing attributes (such as price, location, room type) and customer reviews.\n",
        "\n",
        "**7. Impact on Local Housing Market:**\n",
        "\n",
        "* Assess the impact of Airbnb listings on the local housing market, including rental prices, housing availability, and neighborhood gentrification.\n",
        "* Investigate whether there are correlations between the concentration of Airbnb listings and changes in property values or rental affordability.\n",
        "\n",
        "**8. Regulatory Compliance and Policy Implications:**\n",
        "\n",
        "* Evaluate the extent to which Airbnb listings comply with local regulations and zoning ordinances in New York City.\n",
        "* Assess the effectiveness of existing policies or regulatory measures aimed at regulating short-term rentals and addressing concerns related to housing affordability and community impact."
      ],
      "metadata": {
        "id": "DpeJGUA3kjGy"
      }
    },
    {
      "cell_type": "markdown",
      "source": [
        "#### **Define Your Business Objective?**\n",
        "\n"
      ],
      "metadata": {
        "id": "PH-0ReGfmX4f"
      }
    },
    {
      "cell_type": "markdown",
      "source": [
        "The business objective for analyzing Airbnb listings data in New York City is to gain actionable insights that can inform decision-making and strategy development for stakeholders involved in the short-term rental market. This includes Airbnb hosts, property managers, tourists, policymakers, and regulatory agencies. Specifically, the business objectives could be:\n",
        "\n",
        "**Optimizing Revenue and Occupancy Rates:**\n",
        "\n",
        "*   Identify factors that contribute to higher occupancy rates and pricing for Airbnb listings in different neighborhoods or property types.\n",
        "*   Develop strategies to optimize listing performance and maximize revenue for hosts and property managers.\n",
        "\n",
        "**Enhancing Customer Experience:**\n",
        "\n",
        "* Understand guest preferences, satisfaction levels, and pain points through analysis of reviews and ratings.\n",
        "* Implement improvements to listings and services to enhance the overall guest experience and drive positive reviews and repeat bookings.\n",
        "\n",
        "**Market Segmentation and Targeting:**\n",
        "\n",
        "* Segment the market based on traveler demographics, preferences, and booking behaviors.\n",
        "* Tailor marketing efforts and pricing strategies to target specific customer segments effectively.\n",
        "\n",
        "**Compliance and Risk Management:**\n",
        "\n",
        "* Ensure compliance with local regulations and legal requirements governing short-term rentals in New York City.\n",
        "* Identify potential risks and liabilities associated with non-compliance and develop strategies to mitigate them.\n",
        "\n",
        "**Competitive Analysis and Benchmarking:**\n",
        "\n",
        "* Benchmark performance against competitors and industry standards to identify areas of strength and areas for improvement.\n",
        "* Monitor market trends and competitor activities to stay competitive in the dynamic short-term rental market.\n",
        "\n",
        "**Community and Stakeholder Engagement:**\n",
        "\n",
        "* Foster positive relationships with local communities by addressing concerns related to housing affordability, neighborhood disruption, and regulatory compliance.\n",
        "* Engage with stakeholders, including policymakers, residents, and advocacy groups, to collaborate on sustainable solutions and responsible tourism practices.\n",
        "\n",
        "By achieving these business objectives, stakeholders can unlock the full potential of the Airbnb platform while ensuring positive outcomes for hosts, guests, local communities, and the broader tourism ecosystem in New York City. The insights derived from the analysis will enable informed decision-making, strategic planning, and proactive measures to address challenges and capitalize on opportunities in the short-term rental market."
      ],
      "metadata": {
        "id": "PhDvGCAqmjP1"
      }
    },
    {
      "cell_type": "markdown",
      "source": [
        "# **General Guidelines** : -  "
      ],
      "metadata": {
        "id": "mDgbUHAGgjLW"
      }
    },
    {
      "cell_type": "markdown",
      "source": [
        "1.   Well-structured, formatted, and commented code is required.\n",
        "2.   Exception Handling, Production Grade Code & Deployment Ready Code will be a plus. Those students will be awarded some additional credits.\n",
        "     \n",
        "     The additional credits will have advantages over other students during Star Student selection.\n",
        "       \n",
        "             [ Note: - Deployment Ready Code is defined as, the whole .ipynb notebook should be executable in one go\n",
        "                       without a single error logged. ]\n",
        "\n",
        "3.   Each and every logic should have proper comments.\n",
        "4. You may add as many number of charts you want. Make Sure for each and every chart the following format should be answered.\n",
        "        \n",
        "\n",
        "```\n",
        "# Chart visualization code\n",
        "```\n",
        "            \n",
        "\n",
        "*   Why did you pick the specific chart?\n",
        "*   What is/are the insight(s) found from the chart?\n",
        "* Will the gained insights help creating a positive business impact?\n",
        "Are there any insights that lead to negative growth? Justify with specific reason.\n",
        "\n",
        "5. You have to create at least 20 logical & meaningful charts having important insights.\n",
        "\n",
        "\n",
        "[ Hints : - Do the Vizualization in  a structured way while following \"UBM\" Rule.\n",
        "\n",
        "U - Univariate Analysis,\n",
        "\n",
        "B - Bivariate Analysis (Numerical - Categorical, Numerical - Numerical, Categorical - Categorical)\n",
        "\n",
        "M - Multivariate Analysis\n",
        " ]\n",
        "\n",
        "\n",
        "\n"
      ],
      "metadata": {
        "id": "ZrxVaUj-hHfC"
      }
    },
    {
      "cell_type": "markdown",
      "source": [
        "# ***Let's Begin !***"
      ],
      "metadata": {
        "id": "O_i_v8NEhb9l"
      }
    },
    {
      "cell_type": "markdown",
      "source": [
        "## ***1. Know Your Data***"
      ],
      "metadata": {
        "id": "HhfV-JJviCcP"
      }
    },
    {
      "cell_type": "markdown",
      "source": [
        "### Import Libraries"
      ],
      "metadata": {
        "id": "Y3lxredqlCYt"
      }
    },
    {
      "cell_type": "code",
      "source": [
        "# Import Libraries\n",
        "import numpy as np\n",
        "import pandas as pd\n",
        "import matplotlib as plt      #for visualisation\n",
        "import seaborn as sns         #for visualisation\n",
        "import folium\n",
        "import warnings\n",
        "warnings.filterwarnings('ignore')"
      ],
      "metadata": {
        "id": "M8Vqi-pPk-HR"
      },
      "execution_count": null,
      "outputs": []
    },
    {
      "cell_type": "markdown",
      "source": [
        "### Dataset Loading"
      ],
      "metadata": {
        "id": "3RnN4peoiCZX"
      }
    },
    {
      "cell_type": "code",
      "source": [
        "# Load Dataset\n",
        "from google.colab import drive\n",
        "drive.mount('/content/drive')\n",
        "\n",
        "# Specify the file path\n",
        "filepath = '/content/drive/MyDrive/Almabetter Projects/Module-2/Capstone Project-2/Airbnb NYC 2019.csv'\n",
        "\n",
        "#load the file\n",
        "airbnb_df = pd.read_csv(filepath)"
      ],
      "metadata": {
        "id": "4CkvbW_SlZ_R"
      },
      "execution_count": null,
      "outputs": []
    },
    {
      "cell_type": "markdown",
      "source": [
        "### Dataset First View"
      ],
      "metadata": {
        "id": "x71ZqKXriCWQ"
      }
    },
    {
      "cell_type": "code",
      "source": [
        "# Dataset First Look\n",
        "airbnb_df"
      ],
      "metadata": {
        "id": "LWNFOSvLl09H"
      },
      "execution_count": null,
      "outputs": []
    },
    {
      "cell_type": "code",
      "source": [
        "airbnb_df.head()\n",
        "airbnb_df.tail()"
      ],
      "metadata": {
        "id": "JHMOEF08vuwa"
      },
      "execution_count": null,
      "outputs": []
    },
    {
      "cell_type": "markdown",
      "source": [
        "### Dataset Rows & Columns count"
      ],
      "metadata": {
        "id": "7hBIi_osiCS2"
      }
    },
    {
      "cell_type": "code",
      "source": [
        "# Dataset Rows & Columns count\n",
        "\n",
        "# Get the number of rows and columns\n",
        "num_rows, num_columns = airbnb_df.shape\n",
        "\n",
        "# Print the results\n",
        "print(\"Number of rows:\", num_rows)\n",
        "print(\"Number of columns:\", num_columns)"
      ],
      "metadata": {
        "id": "Kllu7SJgmLij"
      },
      "execution_count": null,
      "outputs": []
    },
    {
      "cell_type": "markdown",
      "source": [
        "##**About the Dataset – Airbnb Bookings**\n",
        "\n",
        "*   This Airbnb dataset contains nearly 49,000 observations from New York , with 16 columns of data.\n",
        "\n",
        "*   The Data includes both categorical and numeric values, providing a diverse range of information about the listings.\n",
        "\n",
        "*   This Dataset may be useful for analyzing trends and patterns in the Airbnb market in New York and also gain insights into the preferences and behavior of Airbnb users in the area.\n",
        "\n",
        "*   This dataset contains information about Airbnb bookings in New York City in 2019. By analyzing this data, you may be able to understand the trends and patterns of Airbnb use in the NYC."
      ],
      "metadata": {
        "id": "WjEZXGLtw55K"
      }
    },
    {
      "cell_type": "markdown",
      "source": [
        "### Dataset Information"
      ],
      "metadata": {
        "id": "JlHwYmJAmNHm"
      }
    },
    {
      "cell_type": "code",
      "source": [
        "# Dataset Info\n",
        "# 1. Shape of the Dataset\n",
        "print(\"Dataset Shape:\")\n",
        "print(airbnb_df.shape)\n",
        "print()\n",
        "\n",
        "# 2. Column Names\n",
        "print(\"Column Names:\")\n",
        "print(airbnb_df.columns)\n",
        "print()\n",
        "\n",
        "# 3. Data Types\n",
        "print(\"Data Types:\")\n",
        "print(airbnb_df.dtypes)\n",
        "print()\n",
        "\n",
        "# 4. Summary Statistics\n",
        "print(\"Summary Statistics:\")\n",
        "print(airbnb_df.describe())\n",
        "print()\n",
        "\n",
        "# 5. Missing Values\n",
        "print(\"Missing Values:\")\n",
        "print(airbnb_df.isnull().sum())\n",
        "print()\n",
        "\n",
        "# 6. Unique Values\n",
        "print(\"Unique Values:\")\n",
        "for column in airbnb_df.columns:\n",
        "    if airbnb_df[column].dtype == 'object':  # Only for categorical columns\n",
        "        print(f\"Column: {column}, Unique Values: {airbnb_df[column].nunique()}\")\n"
      ],
      "metadata": {
        "id": "e9hRXRi6meOf"
      },
      "execution_count": null,
      "outputs": []
    },
    {
      "cell_type": "markdown",
      "source": [
        "#### Duplicate Values"
      ],
      "metadata": {
        "id": "35m5QtbWiB9F"
      }
    },
    {
      "cell_type": "code",
      "source": [
        "# Dataset Duplicate Value Count\n",
        "\n",
        "# Count duplicate rows\n",
        "duplicate_count = airbnb_df.duplicated().sum()\n",
        "\n",
        "print(\"Total Duplicate Rows:\", duplicate_count)"
      ],
      "metadata": {
        "id": "1sLdpKYkmox0"
      },
      "execution_count": null,
      "outputs": []
    },
    {
      "cell_type": "markdown",
      "source": [
        "#### Missing Values/Null Values"
      ],
      "metadata": {
        "id": "PoPl-ycgm1ru"
      }
    },
    {
      "cell_type": "code",
      "source": [
        "# Missing Values/Null Values Count\n",
        "\n",
        "# Count missing values\n",
        "missing_values_count = airbnb_df.isnull().sum()\n",
        "\n",
        "print(\"Missing Values Count:\")\n",
        "print(missing_values_count)\n"
      ],
      "metadata": {
        "id": "GgHWkxvamxVg"
      },
      "execution_count": null,
      "outputs": []
    },
    {
      "cell_type": "code",
      "source": [
        "import matplotlib.pyplot as plt\n",
        "\n",
        "# Visualize missing values as a heatmap\n",
        "plt.figure(figsize=(10, 6))\n",
        "sns.heatmap(airbnb_df.isna())"
      ],
      "metadata": {
        "id": "3q5wnI3om9sJ"
      },
      "execution_count": null,
      "outputs": []
    },
    {
      "cell_type": "markdown",
      "source": [
        "### What did you know about your dataset?"
      ],
      "metadata": {
        "id": "H0kj-8xxnORC"
      }
    },
    {
      "cell_type": "markdown",
      "source": [
        "Based on the information gathered from the Airbnb dataset, here's what we know:\n",
        "\n",
        "1. **Dataset Shape**:\n",
        "   - The dataset contains a **48895** number of rows and **16** columns, providing an overview of its size and structure.\n",
        "\n",
        "2. **Column Names**:\n",
        "   - We have a list of column names, which represent the different attributes or features available in the dataset.\n",
        "\n",
        "3. **Data Types**:\n",
        "   - We know the data types of each column, including whether they contain numerical or categorical data.\n",
        "\n",
        "4. **Summary Statistics**:\n",
        "   - We have calculated summary statistics for numerical columns, giving insights into the central tendency, dispersion, and potential outliers in the data.\n",
        "\n",
        "5. **Missing Values**:\n",
        "   - We have identified columns with missing values and know the count of missing values in each column.\n",
        "\n",
        "6. **Unique Values**:\n",
        "   - For categorical columns, we have counted the number of unique values, providing an understanding of the variety and distribution of different categories.\n",
        "\n",
        "7. **Duplicate Values**:\n",
        "   - We have checked for duplicate rows in the dataset and counted the total number of duplicate rows, if any.\n",
        "\n",
        "8. **Visualizing Missing Values**:\n",
        "   - We have visualized missing values using a heatmap, which helps identify patterns and concentrations of missing data across different columns.\n",
        "\n",
        "Overall, this information provides us with a comprehensive understanding of the Airbnb dataset, laying the groundwork for further exploratory data analysis and insights generation. We can now proceed with more in-depth analysis, visualization, and interpretation to uncover meaningful patterns and trends in the data.Answer Here"
      ],
      "metadata": {
        "id": "gfoNAAC-nUe_"
      }
    },
    {
      "cell_type": "markdown",
      "source": [
        "## ***2. Understanding Your Variables***"
      ],
      "metadata": {
        "id": "nA9Y7ga8ng1Z"
      }
    },
    {
      "cell_type": "code",
      "source": [
        "# Dataset Columns\n",
        "airbnb_df.columns"
      ],
      "metadata": {
        "id": "j7xfkqrt5Ag5"
      },
      "execution_count": null,
      "outputs": []
    },
    {
      "cell_type": "code",
      "source": [
        "# Dataset Describe\n",
        "airbnb_df.describe(include='all')"
      ],
      "metadata": {
        "id": "DnOaZdaE5Q5t"
      },
      "execution_count": null,
      "outputs": []
    },
    {
      "cell_type": "markdown",
      "source": [
        "### Variables Description"
      ],
      "metadata": {
        "id": "PBTbrJXOngz2"
      }
    },
    {
      "cell_type": "markdown",
      "source": [
        "Understanding the variables (columns) in the `airbnb_df` DataFrame is crucial for conducting effective exploratory data analysis (EDA) and deriving insights from the dataset. Let's briefly discuss each variable and its potential significance:\n",
        "\n",
        "1. **id**: Unique identifier for each Airbnb listing. This variable can be useful for referencing specific listings or joining with other datasets.\n",
        "\n",
        "2. **name**: Title or description of the Airbnb listing. While this variable provides textual information about the listing, it may not be directly relevant for quantitative analysis.\n",
        "\n",
        "3. **host_id**: Unique identifier for the host of the listing. This variable allows us to identify listings associated with each host and potentially analyze host behavior or performance.\n",
        "\n",
        "4. **host_name**: Name of the host. Similar to the `name` variable, this variable provides information about the host but may not have a direct impact on quantitative analysis.\n",
        "\n",
        "5. **neighbourhood_group**: Grouping of neighborhoods (boroughs) in New York City. This categorical variable can be useful for analyzing spatial patterns and comparing listings across different neighborhoods.\n",
        "\n",
        "6. **neighbourhood**: Specific neighborhood where the Airbnb listing is located. Like `neighbourhood_group`, this variable provides spatial information that can be used for geographic analysis.\n",
        "\n",
        "7. **latitude** and **longitude**: Coordinates of the listing's location. These numerical variables are essential for geospatial analysis and visualization, allowing us to plot listings on maps and identify spatial patterns.\n",
        "\n",
        "8. **room_type**: Type of room available for rent (e.g., Entire home/apt, Private room, Shared room). This categorical variable provides information about the accommodation type and can be used for segmentation and analysis based on room type.\n",
        "\n",
        "9. **price**: Price per night for the listing. This numerical variable is a key metric for analyzing pricing trends, identifying outliers, and understanding the distribution of prices across listings.\n",
        "\n",
        "10. **minimum_nights**: Minimum number of nights required for booking. This numerical variable provides information about booking restrictions and can be useful for understanding host policies.\n",
        "\n",
        "11. **number_of_reviews**: Total number of reviews for the listing. This numerical variable reflects the popularity and level of engagement with the listing, which can be indicative of listing quality and guest satisfaction.\n",
        "\n",
        "12. **last_review**: Date of the last review. This temporal variable provides information about the recency of reviews and can be useful for analyzing trends over time.\n",
        "\n",
        "13. **reviews_per_month**: Average number of reviews per month. This numerical variable complements `number_of_reviews` by providing a normalized measure of review activity over time.\n",
        "\n",
        "14. **calculated_host_listings_count**: Number of listings managed by the host. This numerical variable provides insights into host activity and scale of operation.\n",
        "\n",
        "15. **availability_365**: Number of days the listing is available for booking within the next year. This numerical variable reflects listing availability and can be useful for analyzing booking patterns and seasonality.\n",
        "\n",
        "Understanding these variables allows us to formulate hypotheses, conduct exploratory data analysis, and derive insights that can inform various stakeholders in the Airbnb ecosystem, including hosts, guests, and policymakers.Answer Here"
      ],
      "metadata": {
        "id": "aJV4KIxSnxay"
      }
    },
    {
      "cell_type": "markdown",
      "source": [
        "### Check Unique Values for each variable."
      ],
      "metadata": {
        "id": "u3PMJOP6ngxN"
      }
    },
    {
      "cell_type": "code",
      "source": [
        "# Check Unique Values for each variable.\n",
        "print(\"Unique Values:\")\n",
        "for column in airbnb_df.columns:\n",
        "    #if airbnb_df[column].dtype == 'object':  # Only for categorical columns\n",
        "        print(f\" {column}: {airbnb_df[column].nunique()}\")"
      ],
      "metadata": {
        "id": "zms12Yq5n-jE"
      },
      "execution_count": null,
      "outputs": []
    },
    {
      "cell_type": "markdown",
      "source": [
        "## 3. ***Data Wrangling***"
      ],
      "metadata": {
        "id": "dauF4eBmngu3"
      }
    },
    {
      "cell_type": "markdown",
      "source": [
        "### Data Wrangling Code"
      ],
      "metadata": {
        "id": "bKJF3rekwFvQ"
      }
    },
    {
      "cell_type": "code",
      "source": [
        "# Let's get the overview of the coulmns\n",
        "\n",
        "airbnb_df.head().T"
      ],
      "metadata": {
        "id": "wk-9a2fpoLcV"
      },
      "execution_count": null,
      "outputs": []
    },
    {
      "cell_type": "markdown",
      "source": [
        "As we can see above dataset, some column names are not specified precisely according to the data. So let's rename some of the column name for better understanding of the dataset."
      ],
      "metadata": {
        "id": "SOWRBXvUk3ow"
      }
    },
    {
      "cell_type": "code",
      "source": [
        "rename_col = {'id':'listing_id', 'name':'listing_name', 'number_of_reviews':'total_reviews', 'calculated_host_listings_count':'host_listing_counts'}\n",
        "\n",
        "# use a pandas function to rename the current function\n",
        "airbnb_df = airbnb_df.rename(columns = rename_col)\n",
        "airbnb_df.head(2)"
      ],
      "metadata": {
        "id": "kNHzqod0lHXK"
      },
      "execution_count": null,
      "outputs": []
    },
    {
      "cell_type": "code",
      "source": [
        "airbnb_df.info()"
      ],
      "metadata": {
        "id": "2qRnvCb6mFll"
      },
      "execution_count": null,
      "outputs": []
    },
    {
      "cell_type": "markdown",
      "source": [
        "In above dataset we can conclude that:\n",
        "\n",
        "* **listing_name**, **host_name**, **neighbourhood_group**, **neighbourhood**, **room_type** falls into categorical variable category.\n",
        "\n",
        "* **host_id**, **latitude**, **longitude**, **price**, **minimum_nights**, **number_of_reviews**, **last_review**, **reviews_per_month**, **host_listings_count**, **availability_365** are numerical variables.\n"
      ],
      "metadata": {
        "id": "45d4y92dmlAl"
      }
    },
    {
      "cell_type": "code",
      "source": [
        "# checking null values of each columns\n",
        "airbnb_df.isnull().sum()"
      ],
      "metadata": {
        "id": "gc3_HSh-neav"
      },
      "execution_count": null,
      "outputs": []
    },
    {
      "cell_type": "markdown",
      "source": [
        "There are not much null values in **listing_name** and **host_name** columns. SO we will fill these null values with some substitutes."
      ],
      "metadata": {
        "id": "pXSW_Sa4nuwo"
      }
    },
    {
      "cell_type": "code",
      "source": [
        "airbnb_df['listing_name'].fillna('unknown', inplace=True)\n",
        "airbnb_df['host_name'].fillna('unavailable', inplace=True)"
      ],
      "metadata": {
        "id": "_WaNdk48nsV8"
      },
      "execution_count": null,
      "outputs": []
    },
    {
      "cell_type": "code",
      "source": [
        "# checking null values of each columns after updating null values\n",
        "airbnb_df.isnull().sum()"
      ],
      "metadata": {
        "id": "qNFIMBUzoYdR"
      },
      "execution_count": null,
      "outputs": []
    },
    {
      "cell_type": "markdown",
      "source": [
        "Now, the columns **last_review** and **reviews_per_month** have total 10052 null values each.\n",
        "\n",
        "**last_review** column is not required for our analysis as compared to **number_of_reviews** & **reviews_per_month**. We can drop this column."
      ],
      "metadata": {
        "id": "C2wFEOxMomOz"
      }
    },
    {
      "cell_type": "code",
      "source": [
        "#airbnb_df=airbnb_df.drop(['last_review'], axis=1)\n",
        "airbnb_df.head(1)"
      ],
      "metadata": {
        "id": "PwjPMqp1o1Iy"
      },
      "execution_count": null,
      "outputs": []
    },
    {
      "cell_type": "markdown",
      "source": [
        "Also let's replace the null values in **reviews_per_month** with zero. This will be the approriate replacement for the missing values."
      ],
      "metadata": {
        "id": "GElopUKMqWaY"
      }
    },
    {
      "cell_type": "code",
      "source": [
        "airbnb_df['reviews_per_month'] = airbnb_df['reviews_per_month'].replace(to_replace=np.nan,value=0).astype('int64')\n",
        "airbnb_df.isnull().sum()"
      ],
      "metadata": {
        "id": "0K4LHwmjptvE"
      },
      "execution_count": null,
      "outputs": []
    },
    {
      "cell_type": "markdown",
      "source": [
        "So now we don't have any missing values in our dataframe. So we move further and so some experimental analysis on our data."
      ],
      "metadata": {
        "id": "ukSx66mxrgxK"
      }
    },
    {
      "cell_type": "code",
      "source": [
        "airbnb_df.head()"
      ],
      "metadata": {
        "id": "Ri2BlwWot-kY"
      },
      "execution_count": null,
      "outputs": []
    },
    {
      "cell_type": "code",
      "source": [
        "# Check Unique Values for each variable.\n",
        "for column in airbnb_df.columns:\n",
        "  if airbnb_df[column].dtype == 'object':  # Only for categorical columns\n",
        "    print(f\"{column} : {airbnb_df[column].nunique()}\")"
      ],
      "metadata": {
        "id": "nPhB08k-sCRI"
      },
      "execution_count": null,
      "outputs": []
    },
    {
      "cell_type": "markdown",
      "source": [
        "As we can see that we have **47906** unique listing names, **11453** unique hosts, **5** different neighbourhood groups, **221** neighbourhoods and **3** room types."
      ],
      "metadata": {
        "id": "niY619uzsqgw"
      }
    },
    {
      "cell_type": "markdown",
      "source": [
        "We can assume that listings are listings/property with same names has different hosts in different areas/neighbourhoods of a neighbourhood_group."
      ],
      "metadata": {
        "id": "k63HQfoEtOt2"
      }
    },
    {
      "cell_type": "code",
      "source": [
        "airbnb_df[airbnb_df['host_name']=='John']['listing_name'].nunique()\n",
        "\n",
        "# Host name 'John' operates 293 diffrent listings/property"
      ],
      "metadata": {
        "id": "Nj0f6BHhtvxD"
      },
      "execution_count": null,
      "outputs": []
    },
    {
      "cell_type": "code",
      "source": [
        "airbnb_df[airbnb_df['host_name']==airbnb_df['listing_name']].info()\n",
        "#we have 26 listings in which host name and listing name is same.\n",
        "\n",
        "airbnb_df[airbnb_df['host_name']==airbnb_df['listing_name']].head()"
      ],
      "metadata": {
        "id": "fdU3SQf9ux8Q"
      },
      "execution_count": null,
      "outputs": []
    },
    {
      "cell_type": "markdown",
      "source": [
        "**What can we learn about different hosts and areas?**"
      ],
      "metadata": {
        "id": "f5dEwoxOxiKO"
      }
    },
    {
      "cell_type": "code",
      "source": [
        "host_areas = airbnb_df.groupby(['host_name', 'neighbourhood_group'])['host_listing_counts'].max()\n",
        "host_areas = host_areas.reset_index()\n",
        "host_areas.sort_values('host_listing_counts',ascending=False).head(5)"
      ],
      "metadata": {
        "id": "BRuoNzhUxbUo"
      },
      "execution_count": null,
      "outputs": []
    },
    {
      "cell_type": "markdown",
      "source": [
        "---\n",
        "\n",
        "# **Describe the Dataset and removing outliers**"
      ],
      "metadata": {
        "id": "ZguqcLr00kMg"
      }
    },
    {
      "cell_type": "code",
      "source": [
        "# describe the DataFrame\n",
        "airbnb_df.describe()"
      ],
      "metadata": {
        "id": "9S63X3lK0kuV"
      },
      "execution_count": null,
      "outputs": []
    },
    {
      "cell_type": "markdown",
      "source": [
        "As we can see that we still have some inaccuracy in our data. For instance, we have zero price in **price** column and same for **availability_365** column. That means some kistings have set zero prices or unavailable for booking. This can create inconsistency in our data. So we will locate these outliers and remove them our dataframe."
      ],
      "metadata": {
        "id": "ZsK_TDN4OHwo"
      }
    },
    {
      "cell_type": "code",
      "source": [
        "#finding out listings whhich has price set as zero and also unavialble for booking.\n",
        "discounted_listing = airbnb_df[(airbnb_df['price']==0) & (airbnb_df['availability_365']==0)]\n",
        "discounted_listing"
      ],
      "metadata": {
        "id": "N_1DalMIMv1B"
      },
      "execution_count": null,
      "outputs": []
    },
    {
      "cell_type": "code",
      "source": [
        "# We found 3 listings which has zero price and unavilable for booking.\n",
        "# We'll remove these rows\n",
        "\n",
        "airbnb_df = airbnb_df.drop(airbnb_df[(airbnb_df['price'] == 0) & (airbnb_df['availability_365'] == 0)].index)"
      ],
      "metadata": {
        "id": "zv5_jp_OPPVl"
      },
      "execution_count": null,
      "outputs": []
    },
    {
      "cell_type": "code",
      "source": [
        "price_error = airbnb_df[(airbnb_df['price']==0)]\n",
        "price_error.shape"
      ],
      "metadata": {
        "id": "FJNlSdbnRLem"
      },
      "execution_count": null,
      "outputs": []
    },
    {
      "cell_type": "code",
      "source": [
        "airbnb_df = airbnb_df.loc[airbnb_df['price']>0]\n",
        "airbnb_df.describe()"
      ],
      "metadata": {
        "id": "fIBYBU4GR75b"
      },
      "execution_count": null,
      "outputs": []
    },
    {
      "cell_type": "code",
      "source": [
        "#Checking outliers in price columns\n",
        "\n",
        "sns.boxplot(x=airbnb_df['price'])"
      ],
      "metadata": {
        "id": "PMyOS73204vl"
      },
      "execution_count": null,
      "outputs": []
    },
    {
      "cell_type": "markdown",
      "source": [
        "---\n",
        "\n",
        "### **Using IQR technique to remove outliers**"
      ],
      "metadata": {
        "id": "oLgLRvWT1NeC"
      }
    },
    {
      "cell_type": "code",
      "source": [
        "# Calculate quartiles\n",
        "Q1 = airbnb_df['price'].quantile(0.25)\n",
        "Q3 = airbnb_df['price'].quantile(0.75)\n",
        "\n",
        "# Calculate IQR\n",
        "IQR = Q3 - Q1\n",
        "\n",
        "# Define lower and upper bounds\n",
        "k = 1.5  # Adjust this multiplier as needed\n",
        "LB = Q1 - k * IQR\n",
        "UB = Q3 + k * IQR\n",
        "\n",
        "# Identify outliers\n",
        "outliers = (airbnb_df['price'] < LB) | (airbnb_df['price'] > UB)\n",
        "\n",
        "# Remove outliers\n",
        "airbnb_df = airbnb_df[~outliers]\n",
        "\n",
        "# Optional: Count and print the number of outliers removed\n",
        "num_outliers_removed = outliers.sum()\n",
        "print(\"Number of outliers removed:\", num_outliers_removed)\n"
      ],
      "metadata": {
        "id": "prp1UgUC19yM"
      },
      "execution_count": null,
      "outputs": []
    },
    {
      "cell_type": "code",
      "source": [
        "# Outliers are removed from price column now check with boxplot and also check shape of new Dataframe!\n",
        "\n",
        "sns.boxplot(x = airbnb_df['price'])\n",
        "print(airbnb_df.shape)"
      ],
      "metadata": {
        "id": "HFZQ1eme2I3K"
      },
      "execution_count": null,
      "outputs": []
    },
    {
      "cell_type": "code",
      "source": [
        "# so here outliers are removed, see the new max price\n",
        "print(airbnb_df['price'].max())"
      ],
      "metadata": {
        "id": "j_uzhIOn2tWY"
      },
      "execution_count": null,
      "outputs": []
    },
    {
      "cell_type": "code",
      "source": [
        "room_price_area_wise = airbnb_df.groupby(['neighbourhood_group','room_type'])['price'].max().reset_index()\n",
        "room_price_area_wise.sort_values (by= 'price', ascending=False).head(10)"
      ],
      "metadata": {
        "id": "jfAAnMRB2-8c"
      },
      "execution_count": null,
      "outputs": []
    },
    {
      "cell_type": "markdown",
      "source": [
        "### What all manipulations have you done and insights you found?"
      ],
      "metadata": {
        "id": "MSa1f5Uengrz"
      }
    },
    {
      "cell_type": "markdown",
      "source": [
        "* So I've used transpose function in dataframe to get a row-wise overview of columns to analyse better.\n",
        "\n",
        "* Used airbnb_df.info() to see the dataframe info which includes column details, non-null count and data type of every column.\n",
        "\n",
        "* We used airbnb_df.isnull().sum() to check for any null values. Then we remove update those null values by filling them with mean values or delete them if it is not neccesary for out data analysis.\n",
        "\n",
        "* Then we ran some manipulation among our dataframe to find some insights about data such as how many different neighbour hood we have in NYC, how many types of properties are listed.\n",
        "\n",
        "* We used **Group By** function to see which neighbourhood group has maximum listings.\n",
        "\n",
        "* Used **describe** function to get the statistical view of the data frame. So then we can check for the mean values, Standard deviation, min, max, etc. We found some error in price column as it has zero price for some listings. We identified those rows and removed them from the dataframe.\n",
        "\n",
        "* We plot a boxplpot using seaborn library to visualize any outliers in the data and after identifying those outliers, we used IQR technique to remove these outliers."
      ],
      "metadata": {
        "id": "LbyXE7I1olp8"
      }
    },
    {
      "cell_type": "markdown",
      "source": [
        "## ***4. Data Vizualization, Storytelling & Experimenting with charts : Understand the relationships between variables***"
      ],
      "metadata": {
        "id": "GF8Ens_Soomf"
      }
    },
    {
      "cell_type": "markdown",
      "source": [
        "### How are the total listings distributed around NYC?\n",
        "\n",
        "The below graph represents the total lisitings distribution around 5 neighbourhood groups. Manhattan and Brooklyn has the most number of listings. Most people prefer to stay in these 2 neighbourhood groups."
      ],
      "metadata": {
        "id": "wSiLOmFNeEKP"
      }
    },
    {
      "cell_type": "code",
      "source": [
        "plt.figure(figsize=(6,4))\n",
        "airbnb_df['neighbourhood_group'].value_counts().plot(kind='bar')"
      ],
      "metadata": {
        "id": "Lsa8mJPueDu6"
      },
      "execution_count": null,
      "outputs": []
    },
    {
      "cell_type": "markdown",
      "source": [
        "This shows the total listings for each neighbourhood group. We can observe that Manhattan and Brooklyn has the most listings, while Staten Island has the least."
      ],
      "metadata": {
        "id": "7Fup5dpWekb0"
      }
    },
    {
      "cell_type": "markdown",
      "source": [
        "## **Distribution Of Airbnb Bookings Price Range Using Histogram**##"
      ],
      "metadata": {
        "id": "0wOQAZs5pc--"
      }
    },
    {
      "cell_type": "code",
      "source": [
        "# Chart - 1 visualization code\n",
        "\n",
        "# Create a figure with a custom size\n",
        "plt.figure(figsize=(12, 5))\n",
        "\n",
        "# Set the seaborn theme to darkgrid\n",
        "sns.set_theme(style='darkgrid')\n",
        "\n",
        "# Create a histogram of the 'price' column of the airbnb_df dataframe\n",
        "# using sns distplot function and specifying the color as red\n",
        "sns.distplot(airbnb_df['price'],color=('b'))\n",
        "\n",
        "# Add labels to the x-axis and y-axis\n",
        "plt.xlabel('Price', fontsize=14)\n",
        "plt.ylabel('Density', fontsize=14)\n",
        "\n",
        "# Add a title to the plot\n",
        "plt.title('Distribution of Airbnb Prices',fontsize=15)"
      ],
      "metadata": {
        "id": "7v_ESjsspbW7"
      },
      "execution_count": null,
      "outputs": []
    },
    {
      "cell_type": "markdown",
      "source": [
        "##### What is/are the insight(s) found from the chart?"
      ],
      "metadata": {
        "id": "lQ7QKXXCp7Bj"
      }
    },
    {
      "cell_type": "markdown",
      "source": [
        "**Insights:**\n",
        "\n",
        "*   The range of prices which are being charged on Airbnb appears to be from **20 to 300 Dollars**, with the majority of listings falling in the price range of **50 to 150 Dollars.**\n",
        "\n",
        "*   The distribution of prices appears to have a peak in the **50 to 150 Dollars range**, with a relatively lower density of listings in higher and lower price ranges.\n",
        "\n",
        "*   There may be fewer listings available at prices above **250 dollars**, as\n",
        "the density of listings drops significantly in this range.\n",
        "\n",
        "---"
      ],
      "metadata": {
        "id": "C_j1G7yiqdRP"
      }
    },
    {
      "cell_type": "markdown",
      "source": [
        "##   **Total Listing/Property count in Each Neighborhood Group using Count plot**\n",
        "\n"
      ],
      "metadata": {
        "id": "KSlN3yHqYklG"
      }
    },
    {
      "cell_type": "code",
      "source": [
        "# Count the number of listings in each neighborhood group and store the result in a Pandas series\n",
        "counts = airbnb_df['neighbourhood_group'].value_counts()\n",
        "\n",
        "# Reset the index of the series so that the neighborhood groups become columns in the resulting dataframe\n",
        "Top_Neighborhood_group = counts.reset_index()\n",
        "\n",
        "# Rename the columns of the dataframe to be more descriptive\n",
        "Top_Neighborhood_group.columns = ['Neighborhood_Groups', 'Listing_Counts']\n",
        "\n",
        "# display the resulting DataFrame\n",
        "Top_Neighborhood_group"
      ],
      "metadata": {
        "id": "R4YgtaqtYklH"
      },
      "execution_count": null,
      "outputs": []
    },
    {
      "cell_type": "code",
      "source": [
        "# Set the figure size\n",
        "plt.figure(figsize=(8, 6))\n",
        "\n",
        "\n",
        "# Create the countplot\n",
        "sns.countplot(data=airbnb_df, x='neighbourhood_group', palette=\"hls\")\n",
        "\n",
        "# Set the title of the plot\n",
        "plt.title('Neighbourhood_group Listing Counts in NYC', fontsize=15)\n",
        "\n",
        "# Set the x-axis label\n",
        "plt.xlabel('Neighbourhood_Group', fontsize=14)\n",
        "\n",
        "# Set the y-axis label\n",
        "plt.ylabel('Total Listings Counts', fontsize=14)\n",
        "\n",
        "# Show the plot\n",
        "plt.show()"
      ],
      "metadata": {
        "id": "9fYlH8EHjugn"
      },
      "execution_count": null,
      "outputs": []
    },
    {
      "cell_type": "markdown",
      "source": [
        "##### What is/are the insight(s) found from the chart?"
      ],
      "metadata": {
        "id": "ijmpgYnKYklI"
      }
    },
    {
      "cell_type": "markdown",
      "source": [
        "**Observations -->**\n",
        "\n",
        "*   Manhattan and Brooklyn have the highest number of listings on Airbnb, with over 19,000 listings each.\n",
        "\n",
        "*   Queens and the Bronx have significantly fewer listings compared to Manhattan and Brooklyn, with 5,567 and 1,070 listings, respectively\n",
        "\n",
        "*   Staten Island has the fewest number of listings, with only 365.\n",
        "\n",
        "*   The distribution of listings across the different neighborhood groups is skewed, with a concentration of listings in Manhattan and Brooklyn.\n",
        "\n",
        "*   Despite being larger in size, the neighborhoods in Queens, the Bronx, and Staten Island have fewer listings on Airbnb compared to Manhattan, which has a smaller geographical area.\n",
        "\n",
        "*   This could suggest that the demand for Airbnb rentals is higher in Manhattan compared to the other neighborhoods, leading to a higher concentration of listings in this area.\n",
        "\n",
        "*   Alternatively, it could be that the supply of listings is higher in Manhattan due to a higher number of homeowners or property owners in this neighborhood who are willing to list their properties on Airbnb."
      ],
      "metadata": {
        "id": "PSx9atu2YklI"
      }
    },
    {
      "cell_type": "markdown",
      "source": [
        "#### **Average Price Of Each Neighborhood Group using Point Plot**"
      ],
      "metadata": {
        "id": "EM7whBJCYoAo"
      }
    },
    {
      "cell_type": "code",
      "source": [
        "# Chart - 3 visualization code\n",
        "\n",
        "# Group the Airbnb dataset by neighborhood group and calculate the mean of each group\n",
        "grouped = airbnb_df.groupby(\"neighbourhood_group\").mean()\n",
        "\n",
        "# Reset the index of the grouped dataframe so that the neighborhood group becomes a column\n",
        "neighbourhood_group_avg_price = grouped.reset_index()\n",
        "\n",
        "# Rename the \"price\" column to \"avg_price\"\n",
        "neighbourhood_group_avg_price = round(neighbourhood_group_avg_price.rename(columns={\"price\": \"avg_price\"}),2)\n",
        "\n",
        "# Select only the \"neighbourhood_group\" and \"avg_price\" columns\n",
        "neighbourhood_group_avg_price[['neighbourhood_group', 'avg_price']].head()"
      ],
      "metadata": {
        "id": "t6GMdE67YoAp"
      },
      "execution_count": null,
      "outputs": []
    },
    {
      "cell_type": "code",
      "source": [
        "#import mean function from the statistics module\n",
        "from statistics import mean\n",
        "\n",
        "# Create the point plot\n",
        "sns.pointplot(x = 'neighbourhood_group', y='price', data=airbnb_df, estimator = np.mean)\n",
        "\n",
        "# Add axis labels and a title\n",
        "plt.xlabel('Neighbourhood Group',fontsize=14)\n",
        "plt.ylabel('Average Price',fontsize=14)\n",
        "plt.title('Average Price by Neighbourhood Group',fontsize=15)"
      ],
      "metadata": {
        "id": "5i-q9_oC8T7e"
      },
      "execution_count": null,
      "outputs": []
    },
    {
      "cell_type": "markdown",
      "source": [
        "**Observations:**\n",
        "\n",
        "*   The average price of a listing in New York City varies significantly across different neighborhoods, with **Manhattan having the highest 146 dollars/day  average price** and **the Bronx having the lowest near 77 dollars/day.**\n",
        "\n",
        "*   In second graph price distribution is very high in Manhattan and Brooklyn.\n",
        "but Manhattan have more varity in price range, you can see in second violinplot.\n",
        "\n",
        "*   The average price increases as you move from the outer boroughs (Bronx, Brooklyn, Queens, and Staten Island) towards the center of the city (Manhattan).\n",
        "\n",
        "*   The average price in queens and Staten Island is relatively similar, despite being in different parts of the city.\n",
        "\n",
        "*   The data suggests that the overall cost of living in New York City is higher in the center of the city (Manhattan) compared to the outer boroughs. This is likely due to the fact that Manhattan is the most densely populated and commercially important borough, and therefore has higher demand for housing in the centrally located neighborhoods"
      ],
      "metadata": {
        "id": "5dBItgRVYoAp"
      }
    },
    {
      "cell_type": "markdown",
      "source": [
        "#### **Price Distribution Of Each Neighborhood Group using Violin Plot**"
      ],
      "metadata": {
        "id": "4Of9eVA-YrdM"
      }
    },
    {
      "cell_type": "code",
      "source": [
        "# Chart - 4 visualization code\n",
        "# Create the violin plot for price distribution in each Neighbourhood_groups\n",
        "\n",
        "ax= sns.violinplot(x='neighbourhood_group',y='price',data= airbnb_df, palette=\"hls\")"
      ],
      "metadata": {
        "id": "irlUoxc8YrdO"
      },
      "execution_count": null,
      "outputs": []
    },
    {
      "cell_type": "markdown",
      "source": [
        "##### What is/are the insight(s) found from the chart?"
      ],
      "metadata": {
        "id": "F6T5p64dYrdO"
      }
    },
    {
      "cell_type": "markdown",
      "source": [
        "**Observations:**\n",
        "\n",
        "*   Price distribution is very high in Manhattan and Brooklyn, but Manhattan have more Diversity in price range, that you can see in violin plot.\n",
        "\n",
        "*   Queens and Bronx have same price distribution but in Queens area more distribution in USD 50 to USD 100 but diversity in price is not like Manhattan and Brooklyn."
      ],
      "metadata": {
        "id": "Xx8WAJvtYrdO"
      }
    },
    {
      "cell_type": "markdown",
      "source": [
        "#### **Top Neighborhoods by Listing/property using Bar plot**"
      ],
      "metadata": {
        "id": "bamQiAODYuh1"
      }
    },
    {
      "cell_type": "code",
      "source": [
        "# Chart - 5 visualization code\n",
        "# create a new DataFrame that displays the top 10 neighborhoods in the Airbnb NYC dataset based on the number of listings in each neighborhood\n",
        "Top_Neighborhoods = airbnb_df['neighbourhood'].value_counts()[:10].reset_index()\n",
        "\n",
        "# rename the columns of the resulting DataFrame to 'Top_Neighborhoods' and 'Listing_Counts'\n",
        "Top_Neighborhoods.columns = ['Top_Neighborhoods', 'Listing_Counts']\n",
        "\n",
        "# display the resulting DataFrame\n",
        "Top_Neighborhoods\n",
        "\n"
      ],
      "metadata": {
        "id": "TIJwrbroYuh3"
      },
      "execution_count": null,
      "outputs": []
    },
    {
      "cell_type": "code",
      "source": [
        "# Get the top 10 neighborhoods by listing count\n",
        "top_10_neigbourhoods = airbnb_df['neighbourhood'].value_counts().nlargest(10)\n",
        "\n",
        "# Create a list of colors to use for the bars\n",
        "colors = ['c', 'g', 'olive', 'y', 'm', 'orange', '#C0C0C0', '#800000', '#008000', '#000080']\n",
        "\n",
        "# Create a bar plot of the top 10 neighborhoods using the specified colors\n",
        "top_10_neigbourhoods.plot(kind='bar', figsize=(15, 6), color = colors)\n",
        "\n",
        "# Set the x-axis label\n",
        "plt.xlabel('Neighbourhood', fontsize=14)\n",
        "\n",
        "# Set the y-axis label\n",
        "plt.ylabel('Total Listing Counts', fontsize=14)\n",
        "\n",
        "# Set the title of the plot\n",
        "plt.title('Listings by Top Neighborhoods in NYC', fontsize=15)"
      ],
      "metadata": {
        "id": "Mb0n6Ykf9naV"
      },
      "execution_count": null,
      "outputs": []
    },
    {
      "cell_type": "markdown",
      "source": [
        "##### 2. What is/are the insight(s) found from the chart?"
      ],
      "metadata": {
        "id": "GwzvFGzlYuh3"
      }
    },
    {
      "cell_type": "markdown",
      "source": [
        "**Observations:**\n",
        "\n",
        "*   The top neighborhoods in New York City in terms of listing counts are Williamsburg, Bedford-Stuyvesant, Harlem, Bushwick, and the Upper West Side.\n",
        "\n",
        "*   The top neighborhoods are primarily located in Brooklyn and Manhattan. This may be due to the fact that these boroughs have a higher overall population and a higher demand for housing.\n",
        "\n",
        "*   The number of listings alone may not be indicative of the overall demand for housing in a particular neighborhood, as other factors such as the cost of living and the availability of housing may also play a role.\n",
        "\n",
        "\n",
        "\n",
        "\n",
        "\n",
        "\n",
        "\n",
        "---\n",
        "\n"
      ],
      "metadata": {
        "id": "uyqkiB8YYuh3"
      }
    },
    {
      "cell_type": "markdown",
      "source": [
        "#### **Top Hosts With More Listing/Property using Bar chart**"
      ],
      "metadata": {
        "id": "OH-pJp9IphqM"
      }
    },
    {
      "cell_type": "code",
      "source": [
        "# Chart - 6 visualization code\n",
        "# create a new DataFrame that displays the top 10 hosts in the Airbnb NYC dataset based on the number of listings each host has\n",
        "top_10_hosts = airbnb_df['host_name'].value_counts()[:10].reset_index()\n",
        "\n",
        "# rename the columns of the resulting DataFrame to 'host_name' and 'Total_listings'\n",
        "top_10_hosts.columns = ['host_name', 'Total_listings']\n",
        "\n",
        "# display the resulting DataFrame\n",
        "top_10_hosts"
      ],
      "metadata": {
        "id": "kuRf4wtuphqN"
      },
      "execution_count": null,
      "outputs": []
    },
    {
      "cell_type": "code",
      "source": [
        "# Get the top 10 hosts by listing count\n",
        "top_hosts = airbnb_df['host_name'].value_counts()[:10]\n",
        "\n",
        "# Create a bar plot of the top 10 hosts\n",
        "top_hosts.plot(kind='bar', color='peru', figsize=(12, 6))\n",
        "\n",
        "# Set the x-axis label\n",
        "plt.xlabel('top10_hosts', fontsize=14)\n",
        "\n",
        "# Set the y-axis label\n",
        "plt.ylabel('total_NYC_listings', fontsize=14)\n",
        "\n",
        "# Set the title of the plot\n",
        "plt.title('top 10 hosts on the basis of no of listings in entire NYC!', fontsize=15)\n"
      ],
      "metadata": {
        "id": "mHOs_Tzt-Por"
      },
      "execution_count": null,
      "outputs": []
    },
    {
      "cell_type": "markdown",
      "source": [
        "##### What is/are the insight(s) found from the chart?"
      ],
      "metadata": {
        "id": "_ouA3fa0phqN"
      }
    },
    {
      "cell_type": "markdown",
      "source": [
        "**Observations: **\n",
        "\n",
        "*   The top three hosts in terms of total listings are Michael, David, and John, who have 383, 368, and 276 listings, respectively.\n",
        "\n",
        "*   There is a relatively large gap between the top two hosts and the rest of the hosts. For example, john has 276 listings, which is significantly fewer than Michael's 383 listings.\n",
        "\n",
        "*   In this top10 list Mike has 184 listings, which is significantly fewer than\n",
        "Michael's 383 listings. This could indicate that there is a lot of variation in the success of different hosts on Airbnb.\n",
        "\n",
        "*   There are relatively few hosts with a large number of listings. This could indicate that the Airbnb market is relatively competitive, with a small number of hosts dominating a large portion of the market.\n",
        "\n",
        "---"
      ],
      "metadata": {
        "id": "VECbqPI7phqN"
      }
    },
    {
      "cell_type": "markdown",
      "source": [
        "#### **Number Of Active Hosts Per Location Using Line Chart**"
      ],
      "metadata": {
        "id": "PIIx-8_IphqN"
      }
    },
    {
      "cell_type": "code",
      "source": [
        "# Chart - 7 visualization code\n",
        "# create a new DataFrame that displays the number of hosts in each neighborhood group in the Airbnb NYC dataset\n",
        "hosts_per_location = airbnb_df.groupby('neighbourhood_group')['listing_id'].count().reset_index()\n",
        "\n",
        "# rename the columns of the resulting DataFrame to 'Neighbourhood_Groups' and 'Host_counts'\n",
        "hosts_per_location.columns = ['Neighbourhood_Groups', 'Host_counts']\n",
        "\n",
        "# display the resulting DataFrame\n",
        "hosts_per_location"
      ],
      "metadata": {
        "id": "lqAIGUfyphqO"
      },
      "execution_count": null,
      "outputs": []
    },
    {
      "cell_type": "code",
      "source": [
        "# Group the data by neighbourhood_group and count the number of listings for each group\n",
        "hosts_per_location = airbnb_df.groupby('neighbourhood_group')['listing_id'].count()\n",
        "\n",
        "# Get the list of neighbourhood_group names\n",
        "locations = hosts_per_location.index\n",
        "\n",
        "# Get the list of host counts for each neighbourhood_group\n",
        "host_counts = hosts_per_location.values\n",
        "\n",
        "# Set the figure size\n",
        "plt.figure(figsize=(8, 4))\n",
        "\n",
        "# Create the line chart with some experiments using marker function\n",
        "plt.plot(locations, host_counts, marker='o', ms=12, mew=4, mec='r')\n",
        "\n",
        "# Add a title and labels to the x-axis and y-axis\n",
        "plt.title('Number of Active Hosts per Location', fontsize='15')\n",
        "plt.xlabel('Location', fontsize='14')\n",
        "plt.ylabel('Number of Active Hosts', fontsize='14')\n",
        "\n",
        "# Show the plot\n",
        "plt.show()"
      ],
      "metadata": {
        "id": "ffmgrKJ_-y6V"
      },
      "execution_count": null,
      "outputs": []
    },
    {
      "cell_type": "markdown",
      "source": [
        "##### What is/are the insight(s) found from the chart?"
      ],
      "metadata": {
        "id": "r2jJGEOYphqO"
      }
    },
    {
      "cell_type": "markdown",
      "source": [
        "**Observations:**\n",
        "\n",
        "* Manhattan has the largest number of hosts with 19505, Brooklyn has the second largest number of hosts with 19406.\n",
        "\n",
        "* After that Queens with 5567 and the Bronx with 1069. while Staten Island has the fewest with 365.\n",
        "\n",
        "* Brooklyn and Manhattan have the largest number of hosts, with more than double the number of hosts in Queens and more than 18 times the number of hosts in the Bronx."
      ],
      "metadata": {
        "id": "Po6ZPi4hphqO"
      }
    },
    {
      "cell_type": "markdown",
      "source": [
        "#### **Average Minimum Price In Neighborhoods using Scatter and Bar chart**"
      ],
      "metadata": {
        "id": "BZR9WyysphqO"
      }
    },
    {
      "cell_type": "code",
      "source": [
        "# Chart - 8 visualization code\n",
        "# create a new DataFrame that displays the average price of Airbnb rentals in each neighborhood\n",
        "neighbourhood_avg_price = airbnb_df.groupby(\"neighbourhood\").mean().reset_index().rename(columns={\"price\": \"avg_price\"})[['neighbourhood', 'avg_price']]\n",
        "\n",
        "# select the top 10 neighborhoods with the lowest average prices\n",
        "neighbourhood_avg_price = neighbourhood_avg_price.sort_values(\"avg_price\").head(10)\n",
        "\n",
        "# join the resulting DataFrame with the 'neighbourhood_group' column from the Airbnb NYC dataset, dropping any duplicate entries\n",
        "neighbourhood_avg_price_sorted_with_group = neighbourhood_avg_price.join(airbnb_df[['neighbourhood', 'neighbourhood_group']].drop_duplicates().set_index('neighbourhood'),\n",
        "                                                                         on='neighbourhood')\n",
        "\n",
        "# Display the resulting data\n",
        "display(neighbourhood_avg_price_sorted_with_group.style.hide_index())\n"
      ],
      "metadata": {
        "id": "TdPTWpAVphqO"
      },
      "execution_count": null,
      "outputs": []
    },
    {
      "cell_type": "code",
      "source": [
        "neighbourhood_avg_price = (airbnb_df.groupby(\"neighbourhood\").mean().reset_index().rename(columns={\"price\": \"avg_price\"}))[['neighbourhood', 'avg_price']]\n",
        "neighbourhood_avg_price = (neighbourhood_avg_price.sort_values(\"avg_price\"))\n",
        "\n",
        "# Group the data by neighborhood and calculate the average price\n",
        "neighbourhood_avg_price = airbnb_df.groupby(\"neighbourhood\")[\"price\"].mean()\n",
        "\n",
        "# Create a new DataFrame with the average price for each neighborhood\n",
        "neighbourhood_prices = pd.DataFrame({\"neighbourhood\": neighbourhood_avg_price.index, \"avg_price\": neighbourhood_avg_price.values})\n",
        "\n",
        "# Merge the average price data with the original DataFrame#trying to find where the coordinates belong from the latitude and longitude\n",
        "df = airbnb_df.merge(neighbourhood_prices, on=\"neighbourhood\")\n",
        "\n",
        "# Create the scattermapbox plot\n",
        "fig = df.plot.scatter(x=\"longitude\", y=\"latitude\", c=\"avg_price\", title=\"Average Airbnb Price by Neighborhoods in New York City\", figsize=(12,6), cmap=\"plasma\")\n",
        "fig"
      ],
      "metadata": {
        "id": "2-sDNzuR_hSL"
      },
      "execution_count": null,
      "outputs": []
    },
    {
      "cell_type": "code",
      "source": [
        "# Extract the values from the dataset\n",
        "neighborhoods = neighbourhood_avg_price_sorted_with_group['neighbourhood']\n",
        "prices = neighbourhood_avg_price_sorted_with_group['avg_price']\n",
        "\n",
        "# Create the bar plot\n",
        "plt.figure(figsize=(15,5))\n",
        "plt.bar(neighborhoods, prices,width=0.5, color = 'orchid')\n",
        "plt.xlabel('Neighborhood')\n",
        "plt.ylabel('Average Price')\n",
        "plt.title('Average Price by Neighborhood')\n",
        "\n",
        "# Show the plot\n",
        "plt.show()"
      ],
      "metadata": {
        "id": "3DGK9a_d_xqV"
      },
      "execution_count": null,
      "outputs": []
    },
    {
      "cell_type": "markdown",
      "source": [
        "##### What is/are the insight(s) found from the chart?"
      ],
      "metadata": {
        "id": "eZrbJ2SmphqO"
      }
    },
    {
      "cell_type": "markdown",
      "source": [
        "**Observations:**\n",
        "\n",
        "* All of the neighborhoods listed are located in the outer boroughs of New York City (Bronx, Queens, and Staten Island). This suggests that these neighborhoods may have a lower overall cost of living compared to neighborhoods in Manhattan and Brooklyn.\n",
        "\n",
        "*  Most of these neighborhoods are located in the Bronx and Staten Island. These boroughs tend to have a lower overall cost of living compared to Manhattan and Brooklyn.\n",
        "\n",
        "*  These neighborhoods may be attractive to renters or buyers looking for more affordable housing options in the New York City area.\n"
      ],
      "metadata": {
        "id": "mZtgC_hjphqO"
      }
    },
    {
      "cell_type": "markdown",
      "source": [
        "#### **Total Counts Of Each Room Type**"
      ],
      "metadata": {
        "id": "YJ55k-q6phqO"
      }
    },
    {
      "cell_type": "code",
      "source": [
        "# Chart - 9 visualization code\n",
        "# create a new DataFrame that displays the number of listings of each room type in the Airbnb NYC dataset\n",
        "top_room_type = airbnb_df['room_type'].value_counts().reset_index()\n",
        "\n",
        "# rename the columns of the resulting DataFrame to 'Room_Type' and 'Total_counts'\n",
        "top_room_type.columns = ['Room_Type', 'Total_counts']\n",
        "\n",
        "# display the resulting DataFrame\n",
        "top_room_type\n",
        "\n"
      ],
      "metadata": {
        "id": "B2aS4O1ophqO"
      },
      "execution_count": null,
      "outputs": []
    },
    {
      "cell_type": "code",
      "source": [
        "# Set the figure size\n",
        "plt.figure(figsize=(10, 6))\n",
        "\n",
        "# Get the room type counts\n",
        "room_type_counts = airbnb_df['room_type'].value_counts()\n",
        "\n",
        "# Set the labels and sizes for the pie chart\n",
        "labels = room_type_counts.index\n",
        "sizes = room_type_counts.values\n",
        "\n",
        "# Create the pie chart\n",
        "plt.pie(sizes, labels=labels, autopct='%1.1f%%')\n",
        "\n",
        "# Add a legend to the chart\n",
        "plt.legend(title='Room Type', bbox_to_anchor=(0.8, 0, 0.5, 1), fontsize='12')\n",
        "\n",
        "# Show the plot\n",
        "plt.show()\n"
      ],
      "metadata": {
        "id": "XqmGoJLPDf6L"
      },
      "execution_count": null,
      "outputs": []
    },
    {
      "cell_type": "markdown",
      "source": [
        "##### What is/are the insight(s) found from the chart?"
      ],
      "metadata": {
        "id": "OVtJsKN_phqQ"
      }
    },
    {
      "cell_type": "markdown",
      "source": [
        "**Observations:**\n",
        "\n",
        "*  The majority of listings on Airbnb are for entire homes or apartments, with 22787 listings, followed by private rooms with 21989 listings, and shared rooms with 1136 listings.\n",
        "\n",
        "*  There is a significant difference in the number of listings for each room type. For example, there are almost 20 times as many listings for entire homes or apartments as there are for shared rooms.\n",
        "\n",
        "*  The data suggests that travelers using Airbnb have a wide range of accommodation options to choose from, including private rooms and entire homes or apartments"
      ],
      "metadata": {
        "id": "ngGi97qjphqQ"
      }
    },
    {
      "cell_type": "markdown",
      "source": [
        "#### **Stay Requirement counts by Minimum Nights using Bar chart**"
      ],
      "metadata": {
        "id": "U2RJ9gkRphqQ"
      }
    },
    {
      "cell_type": "code",
      "source": [
        "# Chart - 10 visualization code\n",
        "# Group the DataFrame by the minimum_nights column and count the number of rows in each group\n",
        "min_nights_count = airbnb_df.groupby('minimum_nights').size().reset_index(name = 'count')\n",
        "\n",
        "# Sort the resulting DataFrame in descending order by the count column\n",
        "min_nights_count = min_nights_count.sort_values('count', ascending=False)\n",
        "\n",
        "# Select the top 10 rows\n",
        "min_nights_count = min_nights_count.head(15)\n",
        "\n",
        "# Reset the index\n",
        "min_nights_count = min_nights_count.reset_index(drop=True)\n",
        "\n",
        "# Display the resulting DataFrame\n",
        "min_nights_count"
      ],
      "metadata": {
        "id": "GM7a4YP4phqQ"
      },
      "execution_count": null,
      "outputs": []
    },
    {
      "cell_type": "code",
      "source": [
        "# Extract the minimum_nights and count columns from the DataFrame\n",
        "minimum_nights = min_nights_count['minimum_nights']\n",
        "count = min_nights_count['count']\n",
        "\n",
        "# Set the figure size\n",
        "plt.figure(figsize=(12, 4))\n",
        "\n",
        "# Create the bar plot\n",
        "plt.bar(minimum_nights, count)\n",
        "\n",
        "# Add axis labels and a title\n",
        "plt.xlabel('Minimum Nights', fontsize='14')\n",
        "plt.ylabel('Count', fontsize='14')\n",
        "plt.title('Stay Requirement by Minimum Nights', fontsize='15')\n",
        "\n",
        "# Show the plot\n",
        "plt.show()"
      ],
      "metadata": {
        "id": "x8eiyHDfD7mu"
      },
      "execution_count": null,
      "outputs": []
    },
    {
      "cell_type": "markdown",
      "source": [
        "##### What is/are the insight(s) found from the chart?"
      ],
      "metadata": {
        "id": "tgIPom80phqQ"
      }
    },
    {
      "cell_type": "markdown",
      "source": [
        "**Observations:**\n",
        "\n",
        "*   The majority of listings on Airbnb have a minimum stay requirement of 1 or 2 nights, with 12067 and 11080 listings, respectively.\n",
        "\n",
        "*   The number of listings with a minimum stay requirement decreases as the length of stay increases, with 7375 listings requiring a minimum stay of 3 nights, and so on.\n",
        "\n",
        "*   There are relatively few listings with a minimum stay requirement of 30 nights or more, with 3489 and 189 listings, respectively."
      ],
      "metadata": {
        "id": "Qp13pnNzphqQ"
      }
    },
    {
      "cell_type": "markdown",
      "source": [
        "#### **Total Reviews by Each Neighborhood Group using Pie Chart**"
      ],
      "metadata": {
        "id": "x-EpHcCOp1ci"
      }
    },
    {
      "cell_type": "code",
      "source": [
        "# Chart - 11 visualization code\n",
        "# Group the data by neighborhood group and calculate the total number of reviews\n",
        "reviews_by_neighbourhood_group = airbnb_df.groupby(\"neighbourhood_group\")[\"total_reviews\"].sum()\n",
        "\n",
        "# Create a pie chart\n",
        "plt.pie(reviews_by_neighbourhood_group, labels=reviews_by_neighbourhood_group.index, autopct='%1.1f%%')\n",
        "plt.title(\"Number of Reviews by Neighborhood Group in New York City\", fontsize='15')\n",
        "\n",
        "# Display the chart\n",
        "plt.show()"
      ],
      "metadata": {
        "id": "mAQTIvtqp1cj"
      },
      "execution_count": null,
      "outputs": []
    },
    {
      "cell_type": "markdown",
      "source": [
        "##### What is/are the insight(s) found from the chart?"
      ],
      "metadata": {
        "id": "8zGJKyg5p1ck"
      }
    },
    {
      "cell_type": "markdown",
      "source": [
        "**Observations:**\n",
        "\n",
        "*   Brooklyn has the largest share of total reviews on Airbnb, with 43.3%, followed by Manhattan with 39%.\n",
        "\n",
        "* Queens has the third largest share of total reviews, with 14.2%, followed by the Bronx with 2.6% and Staten Island with 1.0%.\n",
        "\n",
        "*   The data suggests that Airbnb is more popular in Brooklyn and Manhattan compared to the other neighborhood groups.\n",
        "\n",
        "*   Despite having fewer listings, Brooklyn has more reviews on Airbnb compared to Manhattan. This could indicate that Airbnb users in Brooklyn are more likely to leave reviews, or that the listings in Brooklyn are more popular or successful in generating positive reviews. It is worth noting that there could be a number of other factors that could contribute to this difference in reviews, such as the quality of the listings or the characteristics of the travelers who use Airbnb in these areas.\n",
        "\n",
        "\n",
        "\n",
        "\n",
        "---\n"
      ],
      "metadata": {
        "id": "ZYdMsrqVp1ck"
      }
    },
    {
      "cell_type": "markdown",
      "source": [
        "#### **Number of Max. Reviews by Each Neighborhood Group using Pie Chart**"
      ],
      "metadata": {
        "id": "n3dbpmDWp1ck"
      }
    },
    {
      "cell_type": "code",
      "source": [
        "# Chart - 12 visualization code\n",
        "# Group the Airbnb data by neighbourhood group\n",
        "reviews_by_neighbourhood_group = airbnb_df.groupby(\"neighbourhood_group\")[\"total_reviews\"].max()\n",
        "\n",
        "# Create a pie chart to visualize the distribution of maximum number of reviews among different neighbourhood groups\n",
        "plt.pie(reviews_by_neighbourhood_group, labels=reviews_by_neighbourhood_group.index, autopct='%1.1f%%')\n",
        "\n",
        "# Add a title to the chart\n",
        "plt.title(\"Number of maximum Reviews by Neighborhood Group in NYC\", fontsize='15')\n",
        "\n",
        "# Display the chart\n",
        "plt.show()\n"
      ],
      "metadata": {
        "id": "bwevp1tKp1ck"
      },
      "execution_count": null,
      "outputs": []
    },
    {
      "cell_type": "markdown",
      "source": [
        "##### What is/are the insight(s) found from the chart?"
      ],
      "metadata": {
        "id": "ZWILFDl5p1ck"
      }
    },
    {
      "cell_type": "markdown",
      "source": [
        "**Observations -->**\n",
        "\n",
        "*   Queens and Manhattan seem to be the most popular neighborhoods for reviewing, as they have both high number of maximum reviews.\n",
        "\n",
        "*   Queens has the highest percentage of reviews at 26.5%, but it has the third highest number of listings, behind Manhattan and Brooklyn. This suggests that Queens may be a particularly popular destination for tourists or visitors, even though it has fewer listings compared to Manhattan and Brooklyn.\n",
        "\n",
        "*   Manhattan and Brooklyn also have a high percentage of reviews, at 25.5% & 20.5%. This indicates that it is a popular destination for tourists or visitors as well. (number of listings higher than queens)\n",
        "\n",
        "*   Overall, this data suggests that Queens, Manhattan, and Brooklyn are the most popular neighborhoods for tourists or visitors, based on the high number of reviews they receive."
      ],
      "metadata": {
        "id": "x-lUsV2mp1ck"
      }
    },
    {
      "cell_type": "markdown",
      "source": [
        "####**Most reviewed room type per month in neighbourhood groups**"
      ],
      "metadata": {
        "id": "Ag9LCva-p1cl"
      }
    },
    {
      "cell_type": "code",
      "source": [
        "# Chart - 13 visualization code\n",
        "# create a figure with a default size of (10, 8)\n",
        "f, ax = plt.subplots(figsize=(10, 8))\n",
        "\n",
        "# create a stripplot that displays the number of reviews per month for each room type in the Airbnb NYC dataset\n",
        "ax = sns.stripplot(x='room_type', y='reviews_per_month', hue='neighbourhood_group', dodge=True, data=airbnb_df, palette='Set1')\n",
        "\n",
        "# set the title of the plot\n",
        "ax.set_title('Most Reviewed room_types in each Neighbourhood Groups', fontsize='14')\n",
        "\n"
      ],
      "metadata": {
        "id": "EUfxeq9-p1cl"
      },
      "execution_count": null,
      "outputs": []
    },
    {
      "cell_type": "markdown",
      "source": [
        "##### What is/are the insight(s) found from the chart?"
      ],
      "metadata": {
        "id": "2cELzS2fp1cl"
      }
    },
    {
      "cell_type": "markdown",
      "source": [
        "**Observations:**\n",
        "\n",
        "*   We can see that Private room recieved the most no of reviews/month where Manhattan had the highest reviews received for Private rooms with more than 50 reviews/month, followed by Manhattan in the chase.\n",
        "\n",
        "*   Manhattan & Queens got the most no of reviews for Entire home/apt room type.\n",
        "\n",
        "*   There were less reviews recieved from shared rooms as compared to other room types and it was from Staten Island followed by Bronx."
      ],
      "metadata": {
        "id": "ozQPc2_Ip1cl"
      }
    },
    {
      "cell_type": "markdown",
      "source": [
        "#### Chart - 14 - Correlation Heatmap"
      ],
      "metadata": {
        "id": "NC_X3p0fY2L0"
      }
    },
    {
      "cell_type": "code",
      "source": [
        "airbnb_df.columns"
      ],
      "metadata": {
        "id": "AmPiXtPMM5-O"
      },
      "execution_count": null,
      "outputs": []
    },
    {
      "cell_type": "code",
      "source": [
        "# Correlation Heatmap visualization code\n",
        "\n",
        "# Select numerical columns for correlation analysis\n",
        "numerical_columns = ['price', 'minimum_nights', 'total_reviews', 'reviews_per_month',\n",
        "                     'host_listing_counts', 'availability_365']\n",
        "\n",
        "# Compute the correlation matrix\n",
        "correlation_matrix = airbnb_df[numerical_columns].corr()\n",
        "\n",
        "# Plot the correlation heatmap\n",
        "plt.figure(figsize=(10, 8))\n",
        "sns.heatmap(correlation_matrix, annot=True, cmap='coolwarm', fmt=\".2f\")\n",
        "plt.title('Correlation Heatmap of Numerical Variables in Airbnb Data', fontsize=15)\n",
        "plt.show()"
      ],
      "metadata": {
        "id": "xyC9zolEZNRQ"
      },
      "execution_count": null,
      "outputs": []
    },
    {
      "cell_type": "markdown",
      "source": [
        "##### What is/are the insight(s) found from the chart?"
      ],
      "metadata": {
        "id": "YPEH6qLeZNRQ"
      }
    },
    {
      "cell_type": "markdown",
      "source": [
        "**Observations:**\n",
        "\n",
        "* A correlation coefficient of 0.56 between the 'price' column and the 'total_reviews' column indicates a moderately strong positive correlation which means the price directly correlates with total reviews. Average or budget pricing causes people to give satisfactory reviews for the listing.\n",
        "\n",
        "* The positive correlation coefficient indicates that as the 'host_listing_counts' increase, the 'availability_365' tends to increase as well. In other words, there is a tendency for hosts with a higher number of listings to have more availability throughout the year."
      ],
      "metadata": {
        "id": "bfSqtnDqZNRR"
      }
    },
    {
      "cell_type": "markdown",
      "source": [
        "#### Chart - 15 - Pair Plot"
      ],
      "metadata": {
        "id": "q29F0dvdveiT"
      }
    },
    {
      "cell_type": "code",
      "source": [
        "# Pair Plot visualization code\n",
        "# create a pairplot using the seaborn library to visualize the relationships between different variables in the Airbnb NYC dataset\n",
        "sns.pairplot(airbnb_df)\n",
        "\n",
        "# show the plot\n",
        "plt.show()\n"
      ],
      "metadata": {
        "id": "o58-TEIhveiU"
      },
      "execution_count": null,
      "outputs": []
    },
    {
      "cell_type": "markdown",
      "source": [
        "##### What is/are the insight(s) found from the chart?"
      ],
      "metadata": {
        "id": "22aHeOlLveiV"
      }
    },
    {
      "cell_type": "markdown",
      "source": [
        "*   A pair plot consists of multiple scatterplots arranged in a grid, with each\n",
        "scatterplot showing the relationship between two variables\n",
        "\n",
        "*   It can be used to visualize relationships between multiple variables and to identify patterns in the data."
      ],
      "metadata": {
        "id": "uPQ8RGwHveiV"
      }
    },
    {
      "cell_type": "markdown",
      "source": [
        "## **5. Solution to Business Objective**"
      ],
      "metadata": {
        "id": "JcMwzZxoAimU"
      }
    },
    {
      "cell_type": "markdown",
      "source": [
        "#### What do you suggest the client to achieve Business Objective ?"
      ],
      "metadata": {
        "id": "8G2x9gOozGDZ"
      }
    },
    {
      "cell_type": "markdown",
      "source": [
        "Based on the observations and insights derived from the Airbnb data analysis, here are some recommendations for the client to achieve their business objectives:\n",
        "\n",
        "1. **Investment Strategy**:\n",
        "   - Consider investing in property in Manhattan and Brooklyn due to their high demand for Airbnb rentals. These areas offer a large number of listings and attract a significant number of tourists, making them potentially lucrative for property investment.\n",
        "\n",
        "2. **Price Strategy**:\n",
        "   - Recognize that Manhattan has higher prices compared to other boroughs, indicating potential for higher returns on investment. However, Brooklyn offers relatively cheaper prices and still has a substantial number of listings, making it an attractive option for cost-conscious travelers.\n",
        "\n",
        "3. **Neighborhood Focus**:\n",
        "   - Focus on neighborhoods with high listing counts, such as Williamsburg, Bedford-Stuyvesant, Harlem, Bushwick, and the Upper West Side, as they demonstrate strong demand for Airbnb rentals.\n",
        "\n",
        "4. **Accommodation Options**:\n",
        "   - Recognize the popularity of entire homes/apartments and private rooms among Airbnb guests. Consider investing in properties that cater to these preferences to maximize occupancy rates.\n",
        "\n",
        "5. **Competition Analysis**:\n",
        "   - Acknowledge the high level of competition among Airbnb hosts, particularly in Manhattan and Brooklyn. Consider differentiating properties by offering unique amenities or targeting neighborhoods with relatively fewer listings.\n",
        "\n",
        "6. **Short-Term Stay Focus**:\n",
        "   - Given the preference for short-term stays among Airbnb guests, prioritize properties that accommodate shorter stays. Consider flexible booking options to attract a broader range of travelers.\n",
        "\n",
        "7. **Airport Proximity**:\n",
        "   - Recognize that neighborhoods near airports in Queens may have higher average numbers of reviews due to their convenience for travelers. Consider targeting these areas for short-term stay properties catering to transit passengers.\n",
        "\n",
        "8. **Continuous Monitoring**:\n",
        "   - Regularly monitor market trends, including price fluctuations, demand shifts, and competitive dynamics, to adapt strategies and stay competitive in the Airbnb market.\n",
        "\n",
        "By implementing these recommendations, the client can optimize their investment strategy, capitalize on market opportunities, and enhance the profitability of their Airbnb rental properties."
      ],
      "metadata": {
        "id": "pASKb0qOza21"
      }
    },
    {
      "cell_type": "markdown",
      "source": [
        "# **Conclusion**"
      ],
      "metadata": {
        "id": "gCX9965dhzqZ"
      }
    },
    {
      "cell_type": "markdown",
      "source": [
        "Overall, the analysis provides valuable insights that can inform strategic decision-making for property investment, pricing strategies, neighborhood targeting, and accommodation offerings in the Airbnb market."
      ],
      "metadata": {
        "id": "Fjb1IsQkh3yE"
      }
    },
    {
      "cell_type": "markdown",
      "source": [
        "### ***Hurrah! You have successfully completed your EDA Capstone Project !!!***"
      ],
      "metadata": {
        "id": "gIfDvo9L0UH2"
      }
    }
  ]
}